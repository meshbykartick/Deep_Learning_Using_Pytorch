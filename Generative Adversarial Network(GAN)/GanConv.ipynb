{
  "nbformat": 4,
  "nbformat_minor": 0,
  "metadata": {
    "colab": {
      "provenance": [],
      "gpuType": "T4"
    },
    "kernelspec": {
      "name": "python3",
      "display_name": "Python 3"
    },
    "language_info": {
      "name": "python"
    },
    "accelerator": "GPU",
    "widgets": {
      "application/vnd.jupyter.widget-state+json": {
        "e7ffc6bbf84f4fadaeff833d0d0c3a2a": {
          "model_module": "@jupyter-widgets/controls",
          "model_name": "HBoxModel",
          "model_module_version": "1.5.0",
          "state": {
            "_dom_classes": [],
            "_model_module": "@jupyter-widgets/controls",
            "_model_module_version": "1.5.0",
            "_model_name": "HBoxModel",
            "_view_count": null,
            "_view_module": "@jupyter-widgets/controls",
            "_view_module_version": "1.5.0",
            "_view_name": "HBoxView",
            "box_style": "",
            "children": [
              "IPY_MODEL_f3befff7524f40f5b3b39f6e43b63fa1",
              "IPY_MODEL_0b4bcbb9a06d4b95855fd0fd951c3916",
              "IPY_MODEL_7266537e088a44098505362f1eb825cc"
            ],
            "layout": "IPY_MODEL_07d0d3bc74424c9dac160bbc74cc8fa6"
          }
        },
        "f3befff7524f40f5b3b39f6e43b63fa1": {
          "model_module": "@jupyter-widgets/controls",
          "model_name": "HTMLModel",
          "model_module_version": "1.5.0",
          "state": {
            "_dom_classes": [],
            "_model_module": "@jupyter-widgets/controls",
            "_model_module_version": "1.5.0",
            "_model_name": "HTMLModel",
            "_view_count": null,
            "_view_module": "@jupyter-widgets/controls",
            "_view_module_version": "1.5.0",
            "_view_name": "HTMLView",
            "description": "",
            "description_tooltip": null,
            "layout": "IPY_MODEL_ca0d2fe413864000b6480f009a7b0e6e",
            "placeholder": "​",
            "style": "IPY_MODEL_6afaba999008449787456e10790d3491",
            "value": "100%"
          }
        },
        "0b4bcbb9a06d4b95855fd0fd951c3916": {
          "model_module": "@jupyter-widgets/controls",
          "model_name": "FloatProgressModel",
          "model_module_version": "1.5.0",
          "state": {
            "_dom_classes": [],
            "_model_module": "@jupyter-widgets/controls",
            "_model_module_version": "1.5.0",
            "_model_name": "FloatProgressModel",
            "_view_count": null,
            "_view_module": "@jupyter-widgets/controls",
            "_view_module_version": "1.5.0",
            "_view_name": "ProgressView",
            "bar_style": "success",
            "description": "",
            "description_tooltip": null,
            "layout": "IPY_MODEL_6a4fc5ce4b4b4ac9a80fcb2e03473fa6",
            "max": 200,
            "min": 0,
            "orientation": "horizontal",
            "style": "IPY_MODEL_8abc3c15f4d34cd2bf05175fcbc4eb3f",
            "value": 200
          }
        },
        "7266537e088a44098505362f1eb825cc": {
          "model_module": "@jupyter-widgets/controls",
          "model_name": "HTMLModel",
          "model_module_version": "1.5.0",
          "state": {
            "_dom_classes": [],
            "_model_module": "@jupyter-widgets/controls",
            "_model_module_version": "1.5.0",
            "_model_name": "HTMLModel",
            "_view_count": null,
            "_view_module": "@jupyter-widgets/controls",
            "_view_module_version": "1.5.0",
            "_view_name": "HTMLView",
            "description": "",
            "description_tooltip": null,
            "layout": "IPY_MODEL_f17ec51adc3e4a56abaf0d662f66be85",
            "placeholder": "​",
            "style": "IPY_MODEL_ce7fbe1428514eba870371ea6fa6fae9",
            "value": " 200/200 [1:12:50&lt;00:00, 22.11s/it]"
          }
        },
        "07d0d3bc74424c9dac160bbc74cc8fa6": {
          "model_module": "@jupyter-widgets/base",
          "model_name": "LayoutModel",
          "model_module_version": "1.2.0",
          "state": {
            "_model_module": "@jupyter-widgets/base",
            "_model_module_version": "1.2.0",
            "_model_name": "LayoutModel",
            "_view_count": null,
            "_view_module": "@jupyter-widgets/base",
            "_view_module_version": "1.2.0",
            "_view_name": "LayoutView",
            "align_content": null,
            "align_items": null,
            "align_self": null,
            "border": null,
            "bottom": null,
            "display": null,
            "flex": null,
            "flex_flow": null,
            "grid_area": null,
            "grid_auto_columns": null,
            "grid_auto_flow": null,
            "grid_auto_rows": null,
            "grid_column": null,
            "grid_gap": null,
            "grid_row": null,
            "grid_template_areas": null,
            "grid_template_columns": null,
            "grid_template_rows": null,
            "height": null,
            "justify_content": null,
            "justify_items": null,
            "left": null,
            "margin": null,
            "max_height": null,
            "max_width": null,
            "min_height": null,
            "min_width": null,
            "object_fit": null,
            "object_position": null,
            "order": null,
            "overflow": null,
            "overflow_x": null,
            "overflow_y": null,
            "padding": null,
            "right": null,
            "top": null,
            "visibility": null,
            "width": null
          }
        },
        "ca0d2fe413864000b6480f009a7b0e6e": {
          "model_module": "@jupyter-widgets/base",
          "model_name": "LayoutModel",
          "model_module_version": "1.2.0",
          "state": {
            "_model_module": "@jupyter-widgets/base",
            "_model_module_version": "1.2.0",
            "_model_name": "LayoutModel",
            "_view_count": null,
            "_view_module": "@jupyter-widgets/base",
            "_view_module_version": "1.2.0",
            "_view_name": "LayoutView",
            "align_content": null,
            "align_items": null,
            "align_self": null,
            "border": null,
            "bottom": null,
            "display": null,
            "flex": null,
            "flex_flow": null,
            "grid_area": null,
            "grid_auto_columns": null,
            "grid_auto_flow": null,
            "grid_auto_rows": null,
            "grid_column": null,
            "grid_gap": null,
            "grid_row": null,
            "grid_template_areas": null,
            "grid_template_columns": null,
            "grid_template_rows": null,
            "height": null,
            "justify_content": null,
            "justify_items": null,
            "left": null,
            "margin": null,
            "max_height": null,
            "max_width": null,
            "min_height": null,
            "min_width": null,
            "object_fit": null,
            "object_position": null,
            "order": null,
            "overflow": null,
            "overflow_x": null,
            "overflow_y": null,
            "padding": null,
            "right": null,
            "top": null,
            "visibility": null,
            "width": null
          }
        },
        "6afaba999008449787456e10790d3491": {
          "model_module": "@jupyter-widgets/controls",
          "model_name": "DescriptionStyleModel",
          "model_module_version": "1.5.0",
          "state": {
            "_model_module": "@jupyter-widgets/controls",
            "_model_module_version": "1.5.0",
            "_model_name": "DescriptionStyleModel",
            "_view_count": null,
            "_view_module": "@jupyter-widgets/base",
            "_view_module_version": "1.2.0",
            "_view_name": "StyleView",
            "description_width": ""
          }
        },
        "6a4fc5ce4b4b4ac9a80fcb2e03473fa6": {
          "model_module": "@jupyter-widgets/base",
          "model_name": "LayoutModel",
          "model_module_version": "1.2.0",
          "state": {
            "_model_module": "@jupyter-widgets/base",
            "_model_module_version": "1.2.0",
            "_model_name": "LayoutModel",
            "_view_count": null,
            "_view_module": "@jupyter-widgets/base",
            "_view_module_version": "1.2.0",
            "_view_name": "LayoutView",
            "align_content": null,
            "align_items": null,
            "align_self": null,
            "border": null,
            "bottom": null,
            "display": null,
            "flex": null,
            "flex_flow": null,
            "grid_area": null,
            "grid_auto_columns": null,
            "grid_auto_flow": null,
            "grid_auto_rows": null,
            "grid_column": null,
            "grid_gap": null,
            "grid_row": null,
            "grid_template_areas": null,
            "grid_template_columns": null,
            "grid_template_rows": null,
            "height": null,
            "justify_content": null,
            "justify_items": null,
            "left": null,
            "margin": null,
            "max_height": null,
            "max_width": null,
            "min_height": null,
            "min_width": null,
            "object_fit": null,
            "object_position": null,
            "order": null,
            "overflow": null,
            "overflow_x": null,
            "overflow_y": null,
            "padding": null,
            "right": null,
            "top": null,
            "visibility": null,
            "width": null
          }
        },
        "8abc3c15f4d34cd2bf05175fcbc4eb3f": {
          "model_module": "@jupyter-widgets/controls",
          "model_name": "ProgressStyleModel",
          "model_module_version": "1.5.0",
          "state": {
            "_model_module": "@jupyter-widgets/controls",
            "_model_module_version": "1.5.0",
            "_model_name": "ProgressStyleModel",
            "_view_count": null,
            "_view_module": "@jupyter-widgets/base",
            "_view_module_version": "1.2.0",
            "_view_name": "StyleView",
            "bar_color": null,
            "description_width": ""
          }
        },
        "f17ec51adc3e4a56abaf0d662f66be85": {
          "model_module": "@jupyter-widgets/base",
          "model_name": "LayoutModel",
          "model_module_version": "1.2.0",
          "state": {
            "_model_module": "@jupyter-widgets/base",
            "_model_module_version": "1.2.0",
            "_model_name": "LayoutModel",
            "_view_count": null,
            "_view_module": "@jupyter-widgets/base",
            "_view_module_version": "1.2.0",
            "_view_name": "LayoutView",
            "align_content": null,
            "align_items": null,
            "align_self": null,
            "border": null,
            "bottom": null,
            "display": null,
            "flex": null,
            "flex_flow": null,
            "grid_area": null,
            "grid_auto_columns": null,
            "grid_auto_flow": null,
            "grid_auto_rows": null,
            "grid_column": null,
            "grid_gap": null,
            "grid_row": null,
            "grid_template_areas": null,
            "grid_template_columns": null,
            "grid_template_rows": null,
            "height": null,
            "justify_content": null,
            "justify_items": null,
            "left": null,
            "margin": null,
            "max_height": null,
            "max_width": null,
            "min_height": null,
            "min_width": null,
            "object_fit": null,
            "object_position": null,
            "order": null,
            "overflow": null,
            "overflow_x": null,
            "overflow_y": null,
            "padding": null,
            "right": null,
            "top": null,
            "visibility": null,
            "width": null
          }
        },
        "ce7fbe1428514eba870371ea6fa6fae9": {
          "model_module": "@jupyter-widgets/controls",
          "model_name": "DescriptionStyleModel",
          "model_module_version": "1.5.0",
          "state": {
            "_model_module": "@jupyter-widgets/controls",
            "_model_module_version": "1.5.0",
            "_model_name": "DescriptionStyleModel",
            "_view_count": null,
            "_view_module": "@jupyter-widgets/base",
            "_view_module_version": "1.2.0",
            "_view_name": "StyleView",
            "description_width": ""
          }
        }
      }
    }
  },
  "cells": [
    {
      "cell_type": "code",
      "execution_count": null,
      "metadata": {
        "id": "n6qnO-l1593H"
      },
      "outputs": [],
      "source": [
        "import numpy as np\n",
        "import torch\n",
        "import torch.nn as nn\n",
        "from torchvision.datasets import MNIST\n",
        "from torchvision import transforms\n",
        "from torch.utils.data import DataLoader\n",
        "import torch.optim as optim\n",
        "\n",
        "import matplotlib.pyplot as plt\n",
        "from tqdm.notebook import tqdm"
      ]
    },
    {
      "cell_type": "code",
      "source": [
        "latent_dimension = 100\n",
        "batch_size = 128\n",
        "device = \"cuda\" if torch.cuda.is_available() else \"cpu\"\n",
        "epochs = 200\n",
        "\n",
        "#Datasets\n",
        "\n",
        "\n",
        "tensor2image_transforms = transforms.Compose([\n",
        "    transforms.ToTensor(),\n",
        "    transforms.Normalize((0.5,), (0.5,))\n",
        "])\n",
        "\n",
        "\n",
        "trainset = MNIST(\".\", transform=tensor2image_transforms, download=True)\n",
        "trainloader = DataLoader(trainset, batch_size=batch_size)"
      ],
      "metadata": {
        "id": "6R-P3lPP6Ce5"
      },
      "execution_count": null,
      "outputs": []
    },
    {
      "cell_type": "code",
      "source": [
        "class MNISTConditionalGenerator(nn.Module):\n",
        "    def __init__(self,\n",
        "                 latent_dimension=100,\n",
        "                 num_embeddings=10,\n",
        "                 embedding_dim=16):\n",
        "\n",
        "        super().__init__()\n",
        "\n",
        "        self.embeddings = nn.Embedding(num_embeddings, embedding_dim)\n",
        "\n",
        "        self.generator = nn.Sequential(\n",
        "            nn.Linear(latent_dimension+embedding_dim, 256),\n",
        "            nn.LeakyReLU(),\n",
        "            nn.Dropout(p=0.2),\n",
        "            nn.Linear(256, 512),\n",
        "            nn.LeakyReLU(),\n",
        "            nn.Dropout(p=0.2),\n",
        "            nn.Linear(512, 1024),\n",
        "            nn.LeakyReLU(),\n",
        "            nn.Dropout(p=0.2),\n",
        "            nn.Linear(1024, 784),\n",
        "            nn.Tanh()\n",
        "        )\n",
        "\n",
        "    def forward(self, noise, labels):\n",
        "        batch_size = noise.shape[0]\n",
        "\n",
        "        #Get Digit Embeddings\n",
        "        embeddings = self.embeddings(labels)\n",
        "\n",
        "        #Concat Embeddings onto Noise\n",
        "        noise = torch.cat([noise, embeddings], dim=-1)\n",
        "\n",
        "        #Pass Noise+Embeddings into Generator\n",
        "        generated = self.generator(noise)\n",
        "        return generated.reshape(batch_size, 1, 28, 28)\n",
        "\n",
        "class MNISTConditionalDiscriminator(nn.Module):\n",
        "    def __init__(self,\n",
        "                 num_embeddings=10,\n",
        "                 embedding_dim=16):\n",
        "        super().__init__()\n",
        "\n",
        "        self.embeddings = nn.Embedding(num_embeddings, embedding_dim)\n",
        "\n",
        "        self.discriminator = nn.Sequential(\n",
        "            nn.Linear(784+embedding_dim, 1024),\n",
        "            nn.LeakyReLU(),\n",
        "            nn.Dropout(p=0.2),\n",
        "            nn.Linear(1024, 512),\n",
        "            nn.LeakyReLU(),\n",
        "            nn.Dropout(p=0.2),\n",
        "            nn.Linear(512, 256),\n",
        "            nn.LeakyReLU(),\n",
        "            nn.Dropout(p=0.2),\n",
        "            nn.Linear(256, 1),\n",
        "        )\n",
        "\n",
        "    def forward(self, x, labels):\n",
        "        batch_size = x.shape[0]\n",
        "\n",
        "        # Get Digit Embeddings\n",
        "        embeddings = self.embeddings(labels)\n",
        "\n",
        "        # Flatten Images to Vectors\n",
        "        x = x.reshape(batch_size, -1)\n",
        "\n",
        "        # Concat Embeddings to Images\n",
        "        x = torch.cat([x, embeddings], dim=-1)\n",
        "\n",
        "        return self.discriminator(x)\n",
        "\n",
        "generator_learning_rate = 0.0001\n",
        "discriminator_learning_rate = 0.0001\n",
        "\n",
        "# Define Models\n",
        "generator = MNISTConditionalGenerator().to(device)\n",
        "discriminator = MNISTConditionalDiscriminator().to(device)\n",
        "\n",
        "# Define Optimizers\n",
        "gen_optimizer = optim.Adam(generator.parameters(), generator_learning_rate)\n",
        "disc_optimizer = optim.Adam(discriminator.parameters(), discriminator_learning_rate)\n",
        "\n",
        "def train_conditional_gan(generator,\n",
        "                          discriminator,\n",
        "                          generator_optimizer,\n",
        "                          discriminator_optimizer,\n",
        "                          dataloader,\n",
        "                          label_smoothing=0.05,\n",
        "                          epochs=200,\n",
        "                          device=\"cpu\",\n",
        "                          plot_generation_freq=50,\n",
        "                          plot_loss_freq=20,\n",
        "                          num_classes=10):\n",
        "\n",
        "    # Define Loss Function (Will do Sigmoid Internally)\n",
        "    loss_func = nn.BCEWithLogitsLoss()\n",
        "\n",
        "    gen_losses, disc_losses = [], []\n",
        "\n",
        "    for epoch in tqdm(range(epochs)):\n",
        "\n",
        "        generator_epoch_losses = []\n",
        "        discriminator_epoch_losses = []\n",
        "\n",
        "        for images, true_digits in dataloader:\n",
        "\n",
        "            batch_size = images.shape[0]\n",
        "\n",
        "\n",
        "            images = images.to(device)\n",
        "            true_digits = true_digits.to(device)\n",
        "\n",
        "            #noise for Generation ###\n",
        "            rand_digits = torch.randint(0,num_classes, size=(batch_size,), device=device)\n",
        "            noise = torch.randn(batch_size, latent_dimension, device=device)\n",
        "\n",
        "            generated_labels = torch.zeros(batch_size, 1, device=device) + label_smoothing\n",
        "            true_labels = torch.ones(batch_size, 1, device=device) - label_smoothing\n",
        "\n",
        "\n",
        "            generated_images = generator(noise, rand_digits).detach()\n",
        "\n",
        "            # Pass Generated and Real Images into Discriminator\n",
        "            real_discriminator_pred = discriminator(images, true_digits)\n",
        "            gen_discriminator_pred = discriminator(generated_images, rand_digits)\n",
        "\n",
        "            # Compute Discriminator Loss\n",
        "            real_loss = loss_func(real_discriminator_pred, true_labels)\n",
        "            fake_loss = loss_func(gen_discriminator_pred, generated_labels)\n",
        "            discriminator_loss = (real_loss + fake_loss) / 2\n",
        "            discriminator_epoch_losses.append(discriminator_loss.item())\n",
        "\n",
        "            # Update Discriminator\n",
        "            discriminator_optimizer.zero_grad()\n",
        "            discriminator_loss.backward()\n",
        "            discriminator_optimizer.step()\n",
        "\n",
        "            #Sample noise for Generation\n",
        "            rand_digits = torch.randint(0,num_classes, size=(batch_size,), device=device)\n",
        "            noise = torch.randn(batch_size, latent_dimension, device=device)\n",
        "\n",
        "            # Generate Images\n",
        "            generated_images = generator(noise, rand_digits)\n",
        "\n",
        "            # Pass Into Discriminator\n",
        "            gen_discriminator_pred = discriminator(generated_images, rand_digits)\n",
        "\n",
        "            # Compute Generator Loss\n",
        "            generator_loss = loss_func(gen_discriminator_pred, true_labels)\n",
        "            generator_epoch_losses.append(generator_loss.item())\n",
        "\n",
        "            #Update the Generator\n",
        "            generator_optimizer.zero_grad()\n",
        "            generator_loss.backward()\n",
        "            generator_optimizer.step()\n",
        "\n",
        "        generator_epoch_losses = np.mean(generator_epoch_losses)\n",
        "        discriminator_epoch_losses = np.mean(discriminator_epoch_losses)\n",
        "\n",
        "        if epoch % plot_loss_freq == 0:\n",
        "            print(f\"Epoch: {epoch}/{epochs} | Generator Loss: {generator_epoch_losses} | Discriminator Loss: {discriminator_epoch_losses}\")\n",
        "\n",
        "        gen_losses.append(generator_epoch_losses)\n",
        "        disc_losses.append(discriminator_epoch_losses)\n",
        "\n",
        "        if epoch % plot_generation_freq == 0:\n",
        "            generator.eval()\n",
        "            with torch.no_grad():\n",
        "                digits = torch.arange(num_classes, device=device)\n",
        "                noise_sample = torch.randn(num_classes, latent_dimension, device=device)\n",
        "                generated_imgs = generator(noise_sample, digits).to(\"cpu\")\n",
        "\n",
        "                fig, ax = plt.subplots(1,num_classes, figsize=(15,5))\n",
        "\n",
        "                for i in range(num_classes):\n",
        "                    img = (generated_imgs[i].squeeze() + 1)/2\n",
        "                    ax[i].imshow(img.numpy(), cmap=\"gray\")\n",
        "                    ax[i].set_axis_off()\n",
        "\n",
        "                plt.show()\n",
        "\n",
        "            generator.train()\n",
        "\n",
        "    return generator, discriminator, gen_losses, disc_losses\n"
      ],
      "metadata": {
        "id": "Mpi3YHoy65vS"
      },
      "execution_count": null,
      "outputs": []
    },
    {
      "cell_type": "code",
      "source": [
        "\n",
        "\n",
        "\n",
        "\n",
        "class UpsampleBlock(nn.Module):\n",
        "    def __init__(self, in_channels, out_channels, interpolate=False):\n",
        "        super().__init__()\n",
        "        if interpolate:\n",
        "            self.upsample = nn.Sequential(\n",
        "                nn.Upsample(scale_factor=2),\n",
        "                nn.Conv2d(in_channels,\n",
        "                          out_channels,\n",
        "                          kernel_size=3,\n",
        "                          padding=\"same\")\n",
        "            )\n",
        "\n",
        "        else:\n",
        "            self.upsample = nn.ConvTranspose2d(in_channels,\n",
        "                                               out_channels,\n",
        "                                               kernel_size=3,\n",
        "                                               stride=2,\n",
        "                                               padding=1,\n",
        "                                               output_padding=1)\n",
        "\n",
        "\n",
        "    def forward(self, x):\n",
        "        return self.upsample(x)\n",
        "\n",
        "class ConvMNISTConditionalGenerator(nn.Module):\n",
        "    def __init__(self,\n",
        "                 in_channels=128,\n",
        "                 start_dim=7,\n",
        "                 latent_dimension=100,\n",
        "                 num_embeddings=10,\n",
        "                 embedding_dim=16,\n",
        "                 interpolate=False):\n",
        "\n",
        "        super().__init__()\n",
        "\n",
        "        self.start_dim = start_dim\n",
        "        self.in_channels = in_channels\n",
        "\n",
        "        self.embeddings = nn.Embedding(num_embeddings, embedding_dim)\n",
        "\n",
        "        self.lin2img = nn.Linear(latent_dimension+embedding_dim, in_channels * start_dim * start_dim)\n",
        "\n",
        "        self.generator = nn.Sequential(\n",
        "            UpsampleBlock(in_channels, 256),\n",
        "            nn.BatchNorm2d(256),\n",
        "            nn.ReLU(),\n",
        "            nn.Conv2d(256,128,kernel_size=3, padding=\"same\"),\n",
        "            nn.BatchNorm2d(128),\n",
        "            nn.ReLU(),\n",
        "            UpsampleBlock(128, 64),\n",
        "            nn.BatchNorm2d(64),\n",
        "            nn.ReLU(),\n",
        "            nn.Conv2d(64,1,kernel_size=3, padding=\"same\"),\n",
        "            nn.Tanh()\n",
        "        )\n",
        "\n",
        "    def forward(self, noise, labels):\n",
        "        batch_size = noise.shape[0]\n",
        "\n",
        "        # Get Digit Embeddings\n",
        "        embeddings = self.embeddings(labels)\n",
        "\n",
        "        # Concat Embeddings onto Noise\n",
        "        noise = torch.cat([noise, embeddings], dim=-1)\n",
        "\n",
        "        # Project Noise to Img Space\n",
        "        noise = self.lin2img(noise)\n",
        "\n",
        "        #Reshape Noise to Image Shape\n",
        "        noise = noise.reshape(batch_size, self.in_channels, self.start_dim, self.start_dim)\n",
        "\n",
        "        #Pass Noise+Embeddings into Generator\n",
        "        generated = self.generator(noise)\n",
        "\n",
        "        return generated.reshape(batch_size, 1, 28, 28)\n",
        "\n",
        "generator_learning_rate = 0.0001\n",
        "discriminator_learning_rate = 0.0001\n",
        "\n",
        "# Define Models\n",
        "generator = ConvMNISTConditionalGenerator(interpolate=False).to(device)\n",
        "discriminator = MNISTConditionalDiscriminator().to(device)\n",
        "\n",
        "# Define Optimizers\n",
        "gen_optimizer = optim.Adam(generator.parameters(), generator_learning_rate)\n",
        "disc_optimizer = optim.Adam(discriminator.parameters(), discriminator_learning_rate)\n",
        "\n",
        "\n",
        "generator, discriminator, gen_losses, disc_losses = train_conditional_gan(generator=generator,\n",
        "                                                                          discriminator=discriminator,\n",
        "                                                                          generator_optimizer=gen_optimizer,\n",
        "                                                                          discriminator_optimizer=disc_optimizer,\n",
        "                                                                          dataloader=trainloader,\n",
        "                                                                          epochs=200,\n",
        "                                                                          device=\"cuda\",\n",
        "                                                                          plot_generation_freq=20,\n",
        "                                                                          plot_loss_freq=20)"
      ],
      "metadata": {
        "colab": {
          "base_uri": "https://localhost:8080/",
          "height": 1000,
          "referenced_widgets": [
            "e7ffc6bbf84f4fadaeff833d0d0c3a2a",
            "f3befff7524f40f5b3b39f6e43b63fa1",
            "0b4bcbb9a06d4b95855fd0fd951c3916",
            "7266537e088a44098505362f1eb825cc",
            "07d0d3bc74424c9dac160bbc74cc8fa6",
            "ca0d2fe413864000b6480f009a7b0e6e",
            "6afaba999008449787456e10790d3491",
            "6a4fc5ce4b4b4ac9a80fcb2e03473fa6",
            "8abc3c15f4d34cd2bf05175fcbc4eb3f",
            "f17ec51adc3e4a56abaf0d662f66be85",
            "ce7fbe1428514eba870371ea6fa6fae9"
          ]
        },
        "id": "PL-9PmF16XXb",
        "outputId": "358908f9-925b-4e84-bdda-0a728c3d691c"
      },
      "execution_count": null,
      "outputs": [
        {
          "output_type": "display_data",
          "data": {
            "text/plain": [
              "  0%|          | 0/200 [00:00<?, ?it/s]"
            ],
            "application/vnd.jupyter.widget-view+json": {
              "version_major": 2,
              "version_minor": 0,
              "model_id": "e7ffc6bbf84f4fadaeff833d0d0c3a2a"
            }
          },
          "metadata": {}
        },
        {
          "output_type": "stream",
          "name": "stdout",
          "text": [
            "Epoch: 0/200 | Generator Loss: 1.6287542076380268 | Discriminator Loss: 0.45768758619645\n"
          ]
        },
        {
          "output_type": "display_data",
          "data": {
            "text/plain": [
              "<Figure size 1500x500 with 10 Axes>"
            ],
            "image/png": "[encoded data removed]"
          },
          "metadata": {}
        },
        {
          "output_type": "stream",
          "name": "stdout",
          "text": [
            "Epoch: 20/200 | Generator Loss: 0.7412424284512046 | Discriminator Loss: 0.6742882718409556\n"
          ]
        },
        {
          "output_type": "display_data",
          "data": {
            "text/plain": [
              "<Figure size 1500x500 with 10 Axes>"
            ],
            "image/png": "[encoded data removed]"
          },
          "metadata": {}
        },
        {
          "output_type": "stream",
          "name": "stdout",
          "text": [
            "Epoch: 40/200 | Generator Loss: 0.7171598980421705 | Discriminator Loss: 0.6838024886432232\n"
          ]
        },
        {
          "output_type": "display_data",
          "data": {
            "text/plain": [
              "<Figure size 1500x500 with 10 Axes>"
            ],
            "image/png": "[encoded data removed]"
          },
          "metadata": {}
        },
        {
          "output_type": "stream",
          "name": "stdout",
          "text": [
            "Epoch: 60/200 | Generator Loss: 0.709686761217585 | Discriminator Loss: 0.6868533080320622\n"
          ]
        },
        {
          "output_type": "display_data",
          "data": {
            "text/plain": [
              "<Figure size 1500x500 with 10 Axes>"
            ],
            "image/png": "[encoded data removed]"
          },
          "metadata": {}
        },
        {
          "output_type": "stream",
          "name": "stdout",
          "text": [
            "Epoch: 80/200 | Generator Loss: 0.7003523270204377 | Discriminator Loss: 0.6896507132536313\n"
          ]
        },
        {
          "output_type": "display_data",
          "data": {
            "text/plain": [
              "<Figure size 1500x500 with 10 Axes>"
            ],
            "image/png": "[encoded data removed]"
          },
          "metadata": {}
        },
        {
          "output_type": "stream",
          "name": "stdout",
          "text": [
            "Epoch: 100/200 | Generator Loss: 0.7168722170502392 | Discriminator Loss: 0.6870654274914056\n"
          ]
        },
        {
          "output_type": "display_data",
          "data": {
            "text/plain": [
              "<Figure size 1500x500 with 10 Axes>"
            ],
            "image/png": "[encoded data removed]"
          },
          "metadata": {}
        },
        {
          "output_type": "stream",
          "name": "stdout",
          "text": [
            "Epoch: 120/200 | Generator Loss: 0.7115093355239835 | Discriminator Loss: 0.6882737289105397\n"
          ]
        },
        {
          "output_type": "display_data",
          "data": {
            "text/plain": [
              "<Figure size 1500x500 with 10 Axes>"
            ],
            "image/png": "[encoded data removed]"
          },
          "metadata": {}
        },
        {
          "output_type": "stream",
          "name": "stdout",
          "text": [
            "Epoch: 140/200 | Generator Loss: 0.7060326457277798 | Discriminator Loss: 0.6890319532422877\n"
          ]
        },
        {
          "output_type": "display_data",
          "data": {
            "text/plain": [
              "<Figure size 1500x500 with 10 Axes>"
            ],
            "image/png": "[encoded data removed]"
          },
          "metadata": {}
        },
        {
          "output_type": "stream",
          "name": "stdout",
          "text": [
            "Epoch: 160/200 | Generator Loss: 0.7127039281289969 | Discriminator Loss: 0.689216693200028\n"
          ]
        },
        {
          "output_type": "display_data",
          "data": {
            "text/plain": [
              "<Figure size 1500x500 with 10 Axes>"
            ],
            "image/png": "[encoded data removed]"
          },
          "metadata": {}
        },
        {
          "output_type": "stream",
          "name": "stdout",
          "text": [
            "Epoch: 180/200 | Generator Loss: 0.7069291969352185 | Discriminator Loss: 0.6899656488188802\n"
          ]
        },
        {
          "output_type": "display_data",
          "data": {
            "text/plain": [
              "<Figure size 1500x500 with 10 Axes>"
            ],
            "image/png": "[encoded data removed]"
          },
          "metadata": {}
        }
      ]
    },
    {
      "cell_type": "code",
      "source": [],
      "metadata": {
        "id": "lecWyqke6_oY"
      },
      "execution_count": null,
      "outputs": []
    }
  ]
}