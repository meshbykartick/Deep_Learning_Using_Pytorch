{
  "cells": [
    {
      "cell_type": "code",
      "execution_count": null,
      "metadata": {
        "id": "DjqcmdBDxT-x"
      },
      "outputs": [],
      "source": [
        "import numpy as np\n",
        "import torch\n",
        "import torch.nn as nn\n",
        "from torchvision.datasets import MNIST\n",
        "from torchvision import transforms\n",
        "from torch.utils.data import DataLoader\n",
        "import torch.optim as optim\n",
        "\n",
        "import matplotlib.pyplot as plt\n",
        "from tqdm.notebook import tqdm"
      ]
    },
    {
      "cell_type": "markdown",
      "source": [
        "## Implement a Simple Linear Unconditional MNIST GAN"
      ],
      "metadata": {
        "id": "xV7hieZ0ZHVn"
      }
    },
    {
      "cell_type": "code",
      "source": [
        "class MNISTGenerator(nn.Module):\n",
        "    def __init__(self, latent_dimension):\n",
        "        super().__init__()\n",
        "\n",
        "        self.generator = nn.Sequential(\n",
        "            nn.Linear(latent_dimension, 256),\n",
        "            nn.LeakyReLU(),\n",
        "            nn.Dropout(p=0.2),\n",
        "            nn.Linear(256, 512),\n",
        "            nn.LeakyReLU(),\n",
        "            nn.Dropout(p=0.2),\n",
        "            nn.Linear(512, 1024),\n",
        "            nn.LeakyReLU(),\n",
        "            nn.Dropout(p=0.2),\n",
        "            nn.Linear(1024, 784),\n",
        "            nn.Tanh()\n",
        "        )\n",
        "\n",
        "    def forward(self, noise):\n",
        "        batch_size = noise.shape[0]\n",
        "        generated = self.generator(noise)\n",
        "        return generated.reshape(batch_size, 1, 28, 28)\n",
        "\n",
        "class MNISTDiscriminator(nn.Module):\n",
        "    def __init__(self):\n",
        "        super().__init__()\n",
        "\n",
        "        self.discriminator = nn.Sequential(\n",
        "            nn.Linear(784, 1024),\n",
        "            nn.LeakyReLU(),\n",
        "            nn.Dropout(p=0.2),\n",
        "            nn.Linear(1024, 512),\n",
        "            nn.LeakyReLU(),\n",
        "            nn.Dropout(p=0.2),\n",
        "            nn.Linear(512, 256),\n",
        "            nn.LeakyReLU(),\n",
        "            nn.Dropout(p=0.2),\n",
        "            nn.Linear(256, 1),\n",
        "        )\n",
        "\n",
        "    def forward(self, x):\n",
        "        batch_size = x.shape[0]\n",
        "        x = x.reshape(batch_size, -1)\n",
        "        return self.discriminator(x)\n",
        "\n",
        "latent_dimension = 100\n",
        "batch_size = 128\n",
        "device = \"cuda\" if torch.cuda.is_available() else \"cpu\"\n",
        "epochs = 200\n",
        "\n",
        "\n",
        "generator_learning_rate = 0.0001\n",
        "discriminator_learning_rate = 0.0001\n",
        "\n",
        "#Class objects\n",
        "generator = MNISTGenerator(latent_dimension).to(device)\n",
        "discriminator = MNISTDiscriminator().to(device)\n",
        "\n",
        "# Optimizers\n",
        "gen_optimizer = optim.Adam(generator.parameters(), generator_learning_rate)\n",
        "disc_optimizer = optim.Adam(discriminator.parameters(), discriminator_learning_rate)\n"
      ],
      "metadata": {
        "id": "9of11lynbf4M"
      },
      "execution_count": null,
      "outputs": []
    },
    {
      "cell_type": "code",
      "source": [
        "#Datasets\n",
        "tensor2image_transforms = transforms.Compose([\n",
        "    transforms.ToTensor(),\n",
        "    transforms.Normalize((0.5,), (0.5,))\n",
        "])\n",
        "\n",
        "\n",
        "trainset = MNIST(\".\", transform=tensor2image_transforms, download=True)\n",
        "trainloader = DataLoader(trainset, batch_size=batch_size)"
      ],
      "metadata": {
        "colab": {
          "base_uri": "https://localhost:8080/"
        },
        "id": "ReD9wfoTcMVq",
        "outputId": "e14cebd7-8bc8-4e4c-817b-e66cdbf35d65"
      },
      "execution_count": null,
      "outputs": [
        {
          "output_type": "stream",
          "name": "stderr",
          "text": [
            "100%|██████████| 9.91M/9.91M [00:00<00:00, 18.3MB/s]\n",
            "100%|██████████| 28.9k/28.9k [00:00<00:00, 494kB/s]\n",
            "100%|██████████| 1.65M/1.65M [00:00<00:00, 4.60MB/s]\n",
            "100%|██████████| 4.54k/4.54k [00:00<00:00, 7.24MB/s]\n"
          ]
        }
      ]
    },
    {
      "cell_type": "code",
      "source": [
        "def train_unconditional_gan(generator,\n",
        "                            discriminator,\n",
        "                            generator_optimizer,\n",
        "                            discriminator_optimizer,\n",
        "                            dataloader,\n",
        "                            label_smoothing=0.05,\n",
        "                            epochs=200,\n",
        "                            device=\"cpu\",\n",
        "                            plot_generation_freq=50,\n",
        "                            plot_loss_freq=20,\n",
        "                            num_gens=10):\n",
        "\n",
        "    # Define Loss Function\n",
        "    loss_func = nn.BCEWithLogitsLoss()\n",
        "\n",
        "    gen_losses, disc_losses = [], []\n",
        "\n",
        "    for epoch in tqdm(range(epochs)):\n",
        "\n",
        "        generator_epoch_losses = []\n",
        "        discriminator_epoch_losses = []\n",
        "\n",
        "        for images, _ in dataloader:\n",
        "\n",
        "            batch_size = images.shape[0]\n",
        "\n",
        "            images = images.to(device)\n",
        "\n",
        "\n",
        "            # Random noise for Generation\n",
        "            noise = torch.randn(batch_size, latent_dimension, device=device)\n",
        "\n",
        "            # Create Labels for Discriminator with label smoothing\n",
        "            generated_labels = torch.zeros(batch_size, 1, device=device) + label_smoothing\n",
        "            true_labels = torch.ones(batch_size, 1, device=device) - label_smoothing\n",
        "\n",
        "            generated_images = generator(noise).detach()\n",
        "\n",
        "            # Pass Generated and Real Images into Discriminator\n",
        "            real_discriminator_pred = discriminator(images)\n",
        "            gen_discriminator_pred = discriminator(generated_images)\n",
        "\n",
        "            # Compute Loss\n",
        "            real_loss = loss_func(real_discriminator_pred, true_labels)\n",
        "            fake_loss = loss_func(gen_discriminator_pred, generated_labels)\n",
        "            discriminator_loss = (real_loss + fake_loss) / 2\n",
        "            discriminator_epoch_losses.append(discriminator_loss.item())\n",
        "\n",
        "            # Update Discriminator\n",
        "            discriminator_optimizer.zero_grad()\n",
        "            discriminator_loss.backward()\n",
        "            discriminator_optimizer.step()\n",
        "\n",
        "            # Sample noise for Generation\n",
        "            noise = torch.randn(batch_size, latent_dimension, device=device)\n",
        "\n",
        "            # Generate Images\n",
        "            generated_images = generator(noise)\n",
        "\n",
        "            # Pass Into Discriminator\n",
        "            gen_discriminator_pred = discriminator(generated_images)\n",
        "\n",
        "            # Compute Generator Loss\n",
        "            generator_loss = loss_func(gen_discriminator_pred, true_labels)\n",
        "            generator_epoch_losses.append(generator_loss.item())\n",
        "\n",
        "            #Update the Generator\n",
        "            generator_optimizer.zero_grad()\n",
        "            generator_loss.backward()\n",
        "            generator_optimizer.step()\n",
        "\n",
        "        generator_epoch_losses = np.mean(generator_epoch_losses)\n",
        "        discriminator_epoch_losses = np.mean(discriminator_epoch_losses)\n",
        "\n",
        "        if epoch % plot_loss_freq == 0:\n",
        "            print(f\"Epoch: {epoch}/{epochs} | Generator Loss: {generator_epoch_losses} | Discriminator Loss: {discriminator_epoch_losses}\")\n",
        "\n",
        "        gen_losses.append(generator_epoch_losses)\n",
        "        disc_losses.append(discriminator_epoch_losses)\n",
        "\n",
        "        if epoch % plot_generation_freq == 0:\n",
        "            generator.eval()\n",
        "            with torch.no_grad():\n",
        "                noise_sample = torch.randn(num_gens, latent_dimension, device=device)\n",
        "                generated_imgs = generator(noise_sample).to(\"cpu\")\n",
        "\n",
        "                fig, ax = plt.subplots(1,num_gens, figsize=(15,5))\n",
        "\n",
        "                for i in range(num_gens):\n",
        "                    img = (generated_imgs[i].squeeze() + 1)/2\n",
        "                    ax[i].imshow(img.numpy(), cmap=\"gray\")\n",
        "                    ax[i].set_axis_off()\n",
        "\n",
        "                plt.show()\n",
        "\n",
        "            generator.train()\n",
        "\n",
        "    return generator, discriminator, gen_losses, disc_losses\n",
        "\n",
        "generator, discriminator, gen_losses, disc_losses = train_unconditional_gan(generator=generator,\n",
        "                                                                            discriminator=discriminator,\n",
        "                                                                            generator_optimizer=gen_optimizer,\n",
        "                                                                            discriminator_optimizer=disc_optimizer,\n",
        "                                                                            dataloader=trainloader,\n",
        "                                                                            epochs=200,\n",
        "                                                                            device=\"cuda\",\n",
        "                                                                            plot_generation_freq=40,\n",
        "                                                                            plot_loss_freq=40)"
      ],
      "metadata": {
        "colab": {
          "base_uri": "https://localhost:8080/",
          "height": 726,
          "referenced_widgets": [
            "9ae4533ddf91409891610017c72672d4",
            "b44d616902b74eeeb3b2f8136186adc4",
            "36fda8a857994594b470725c254529f0",
            "e153fdfa1c2f419ebdef5943bd36dcc9",
            "8870bec52317470884a8e14b7a12a245",
            "3610eee4bafe480e962991364b3d0273",
            "38c88daa360f4d0fb717714acbac49c1",
            "1a0a946ef52b40c88526669192970b13",
            "2ac729aa2ed94934a4eae5dad3878839",
            "c4f3e36a9b514ed9bbec95cb6714065c",
            "0b9ffe3c215c439abb4e2255a8240038"
          ]
        },
        "id": "_R79ugSNcN6U",
        "outputId": "930cd85c-4e10-486d-ab76-6ab84a2a8fe7"
      },
      "execution_count": null,
      "outputs": [
        {
          "output_type": "display_data",
          "data": {
            "text/plain": [
              "  0%|          | 0/200 [00:00<?, ?it/s]"
            ],
            "application/vnd.jupyter.widget-view+json": {
              "version_major": 2,
              "version_minor": 0,
              "model_id": "9ae4533ddf91409891610017c72672d4"
            }
          },
          "metadata": {}
        },
        {
          "output_type": "stream",
          "name": "stdout",
          "text": [
            "Epoch: 0/200 | Generator Loss: 2.4850550709502786 | Discriminator Loss: 0.31964623759677413\n"
          ]
        },
        {
          "output_type": "display_data",
          "data": {
            "text/plain": [
              "<Figure size 1500x500 with 10 Axes>"
            ],
            "image/png": "[encoded data removed]"
          },
          "metadata": {}
        },
        {
          "output_type": "stream",
          "name": "stdout",
          "text": [
            "Epoch: 40/200 | Generator Loss: 2.854628072364498 | Discriminator Loss: 0.1990776550985857\n"
          ]
        },
        {
          "output_type": "display_data",
          "data": {
            "text/plain": [
              "<Figure size 1500x500 with 10 Axes>"
            ],
            "image/png": "[encoded data removed]"
          },
          "metadata": {}
        },
        {
          "output_type": "stream",
          "name": "stdout",
          "text": [
            "Epoch: 80/200 | Generator Loss: 1.720137993155766 | Discriminator Loss: 0.3854451194119606\n"
          ]
        },
        {
          "output_type": "display_data",
          "data": {
            "text/plain": [
              "<Figure size 1500x500 with 10 Axes>"
            ],
            "image/png": "[encoded data removed]"
          },
          "metadata": {}
        },
        {
          "output_type": "stream",
          "name": "stdout",
          "text": [
            "Epoch: 120/200 | Generator Loss: 1.4305776832962849 | Discriminator Loss: 0.463559961395223\n"
          ]
        },
        {
          "output_type": "display_data",
          "data": {
            "text/plain": [
              "<Figure size 1500x500 with 10 Axes>"
            ],
            "image/png": "[encoded data removed]"
          },
          "metadata": {}
        },
        {
          "output_type": "stream",
          "name": "stdout",
          "text": [
            "Epoch: 160/200 | Generator Loss: 1.3383830264687284 | Discriminator Loss: 0.49188779761542134\n"
          ]
        },
        {
          "output_type": "display_data",
          "data": {
            "text/plain": [
              "<Figure size 1500x500 with 10 Axes>"
            ],
            "image/png": "[encoded data removed]"
          },
          "metadata": {}
        }
      ]
    },
    {
      "cell_type": "code",
      "source": [
        "plt.plot(gen_losses, label=\"Generator Loss\")\n",
        "plt.plot(disc_losses, label=\"Discriminator Loss\")\n",
        "plt.legend()\n",
        "plt.show()"
      ],
      "metadata": {
        "colab": {
          "base_uri": "https://localhost:8080/",
          "height": 430
        },
        "id": "m3mOVDGxc94V",
        "outputId": "b1bf4951-99fb-4e19-f063-765bfb8a5a0b"
      },
      "execution_count": null,
      "outputs": [
        {
          "output_type": "display_data",
          "data": {
            "text/plain": [
              "<Figure size 640x480 with 1 Axes>"
            ],
            "image/png": "[encoded data removed]"
          },
          "metadata": {}
        }
      ]
    },
    {
      "cell_type": "markdown",
      "source": [
        "### Conditional GAN"
      ],
      "metadata": {
        "id": "EVt4CDSLfCAa"
      }
    },
    {
      "cell_type": "code",
      "source": [
        "class MNISTConditionalGenerator(nn.Module):\n",
        "    def __init__(self,\n",
        "                 latent_dimension=100,\n",
        "                 num_embeddings=10,\n",
        "                 embedding_dim=16):\n",
        "\n",
        "        super().__init__()\n",
        "\n",
        "        self.embeddings = nn.Embedding(num_embeddings, embedding_dim)\n",
        "\n",
        "        self.generator = nn.Sequential(\n",
        "            nn.Linear(latent_dimension+embedding_dim, 256),\n",
        "            nn.LeakyReLU(),\n",
        "            nn.Dropout(p=0.2),\n",
        "            nn.Linear(256, 512),\n",
        "            nn.LeakyReLU(),\n",
        "            nn.Dropout(p=0.2),\n",
        "            nn.Linear(512, 1024),\n",
        "            nn.LeakyReLU(),\n",
        "            nn.Dropout(p=0.2),\n",
        "            nn.Linear(1024, 784),\n",
        "            nn.Tanh()\n",
        "        )\n",
        "\n",
        "    def forward(self, noise, labels):\n",
        "        batch_size = noise.shape[0]\n",
        "\n",
        "        #Get Digit Embeddings\n",
        "        embeddings = self.embeddings(labels)\n",
        "\n",
        "        #Concat Embeddings onto Noise\n",
        "        noise = torch.cat([noise, embeddings], dim=-1)\n",
        "\n",
        "        #Pass Noise+Embeddings into Generator\n",
        "        generated = self.generator(noise)\n",
        "        return generated.reshape(batch_size, 1, 28, 28)\n",
        "\n",
        "class MNISTConditionalDiscriminator(nn.Module):\n",
        "    def __init__(self,\n",
        "                 num_embeddings=10,\n",
        "                 embedding_dim=16):\n",
        "        super().__init__()\n",
        "\n",
        "        self.embeddings = nn.Embedding(num_embeddings, embedding_dim)\n",
        "\n",
        "        self.discriminator = nn.Sequential(\n",
        "            nn.Linear(784+embedding_dim, 1024),\n",
        "            nn.LeakyReLU(),\n",
        "            nn.Dropout(p=0.2),\n",
        "            nn.Linear(1024, 512),\n",
        "            nn.LeakyReLU(),\n",
        "            nn.Dropout(p=0.2),\n",
        "            nn.Linear(512, 256),\n",
        "            nn.LeakyReLU(),\n",
        "            nn.Dropout(p=0.2),\n",
        "            nn.Linear(256, 1),\n",
        "        )\n",
        "\n",
        "    def forward(self, x, labels):\n",
        "        batch_size = x.shape[0]\n",
        "\n",
        "        # Get Digit Embeddings\n",
        "        embeddings = self.embeddings(labels)\n",
        "\n",
        "        # Flatten Images to Vectors\n",
        "        x = x.reshape(batch_size, -1)\n",
        "\n",
        "        # Concat Embeddings to Images\n",
        "        x = torch.cat([x, embeddings], dim=-1)\n",
        "\n",
        "        return self.discriminator(x)\n",
        "\n",
        "generator_learning_rate = 0.0001\n",
        "discriminator_learning_rate = 0.0001\n",
        "\n",
        "# Define Models\n",
        "generator = MNISTConditionalGenerator().to(device)\n",
        "discriminator = MNISTConditionalDiscriminator().to(device)\n",
        "\n",
        "# Define Optimizers\n",
        "gen_optimizer = optim.Adam(generator.parameters(), generator_learning_rate)\n",
        "disc_optimizer = optim.Adam(discriminator.parameters(), discriminator_learning_rate)\n",
        "\n",
        "def train_conditional_gan(generator,\n",
        "                          discriminator,\n",
        "                          generator_optimizer,\n",
        "                          discriminator_optimizer,\n",
        "                          dataloader,\n",
        "                          label_smoothing=0.05,\n",
        "                          epochs=200,\n",
        "                          device=\"cpu\",\n",
        "                          plot_generation_freq=50,\n",
        "                          plot_loss_freq=20,\n",
        "                          num_classes=10):\n",
        "\n",
        "    # Define Loss Function (Will do Sigmoid Internally)\n",
        "    loss_func = nn.BCEWithLogitsLoss()\n",
        "\n",
        "    gen_losses, disc_losses = [], []\n",
        "\n",
        "    for epoch in tqdm(range(epochs)):\n",
        "\n",
        "        generator_epoch_losses = []\n",
        "        discriminator_epoch_losses = []\n",
        "\n",
        "        for images, true_digits in dataloader:\n",
        "\n",
        "            batch_size = images.shape[0]\n",
        "\n",
        "\n",
        "            images = images.to(device)\n",
        "            true_digits = true_digits.to(device)\n",
        "\n",
        "            #noise for Generation ###\n",
        "            rand_digits = torch.randint(0,num_classes, size=(batch_size,), device=device)\n",
        "            noise = torch.randn(batch_size, latent_dimension, device=device)\n",
        "\n",
        "            generated_labels = torch.zeros(batch_size, 1, device=device) + label_smoothing\n",
        "            true_labels = torch.ones(batch_size, 1, device=device) - label_smoothing\n",
        "\n",
        "\n",
        "            generated_images = generator(noise, rand_digits).detach()\n",
        "\n",
        "            # Pass Generated and Real Images into Discriminator\n",
        "            real_discriminator_pred = discriminator(images, true_digits)\n",
        "            gen_discriminator_pred = discriminator(generated_images, rand_digits)\n",
        "\n",
        "            # Compute Discriminator Loss\n",
        "            real_loss = loss_func(real_discriminator_pred, true_labels)\n",
        "            fake_loss = loss_func(gen_discriminator_pred, generated_labels)\n",
        "            discriminator_loss = (real_loss + fake_loss) / 2\n",
        "            discriminator_epoch_losses.append(discriminator_loss.item())\n",
        "\n",
        "            # Update Discriminator\n",
        "            discriminator_optimizer.zero_grad()\n",
        "            discriminator_loss.backward()\n",
        "            discriminator_optimizer.step()\n",
        "\n",
        "            #Sample noise for Generation\n",
        "            rand_digits = torch.randint(0,num_classes, size=(batch_size,), device=device)\n",
        "            noise = torch.randn(batch_size, latent_dimension, device=device)\n",
        "\n",
        "            # Generate Images\n",
        "            generated_images = generator(noise, rand_digits)\n",
        "\n",
        "            # Pass Into Discriminator\n",
        "            gen_discriminator_pred = discriminator(generated_images, rand_digits)\n",
        "\n",
        "            # Compute Generator Loss\n",
        "            generator_loss = loss_func(gen_discriminator_pred, true_labels)\n",
        "            generator_epoch_losses.append(generator_loss.item())\n",
        "\n",
        "            #Update the Generator\n",
        "            generator_optimizer.zero_grad()\n",
        "            generator_loss.backward()\n",
        "            generator_optimizer.step()\n",
        "\n",
        "        generator_epoch_losses = np.mean(generator_epoch_losses)\n",
        "        discriminator_epoch_losses = np.mean(discriminator_epoch_losses)\n",
        "\n",
        "        if epoch % plot_loss_freq == 0:\n",
        "            print(f\"Epoch: {epoch}/{epochs} | Generator Loss: {generator_epoch_losses} | Discriminator Loss: {discriminator_epoch_losses}\")\n",
        "\n",
        "        gen_losses.append(generator_epoch_losses)\n",
        "        disc_losses.append(discriminator_epoch_losses)\n",
        "\n",
        "        if epoch % plot_generation_freq == 0:\n",
        "            generator.eval()\n",
        "            with torch.no_grad():\n",
        "                digits = torch.arange(num_classes, device=device)\n",
        "                noise_sample = torch.randn(num_classes, latent_dimension, device=device)\n",
        "                generated_imgs = generator(noise_sample, digits).to(\"cpu\")\n",
        "\n",
        "                fig, ax = plt.subplots(1,num_classes, figsize=(15,5))\n",
        "\n",
        "                for i in range(num_classes):\n",
        "                    img = (generated_imgs[i].squeeze() + 1)/2\n",
        "                    ax[i].imshow(img.numpy(), cmap=\"gray\")\n",
        "                    ax[i].set_axis_off()\n",
        "\n",
        "                plt.show()\n",
        "\n",
        "            generator.train()\n",
        "\n",
        "    return generator, discriminator, gen_losses, disc_losses\n",
        "\n",
        "generator, discriminator, gen_losses, disc_losses = train_conditional_gan(generator=generator,\n",
        "                                                                          discriminator=discriminator,\n",
        "                                                                          generator_optimizer=gen_optimizer,\n",
        "                                                                          discriminator_optimizer=disc_optimizer,\n",
        "                                                                          dataloader=trainloader,\n",
        "                                                                          epochs=200,\n",
        "                                                                          device=\"cuda\",\n",
        "                                                                          plot_generation_freq=40,\n",
        "                                                                          plot_loss_freq=40)"
      ],
      "metadata": {
        "colab": {
          "base_uri": "https://localhost:8080/",
          "height": 726,
          "referenced_widgets": [
            "c76acd00173047ef9efc00c21802a229",
            "9770c0e894ed49a7aa92f699f3677d53",
            "6bf957caa5ab4f97bb7846f5d245dada",
            "c5c75bf9ad7c468ca5ed816976846989",
            "9fbe1cd7faa94881aaa966233e23303c",
            "5c5c4eac65b94e9cbb05f6f85340e984",
            "a4283a1a13ad4e8ea0399f522902b59c",
            "d3510471f93840118a21849a974e992a",
            "e2a6b346e1b24ad3b4f982861c9ef19f",
            "58e378bfdee246fca6eae8eeb725dc10",
            "89514442a62b4b1bb56510f469e1a70b"
          ]
        },
        "id": "MLJV_WnGfONb",
        "outputId": "c1eb73cb-c489-4877-f0d6-2031f84d17ba"
      },
      "execution_count": null,
      "outputs": [
        {
          "output_type": "display_data",
          "data": {
            "text/plain": [
              "  0%|          | 0/200 [00:00<?, ?it/s]"
            ],
            "application/vnd.jupyter.widget-view+json": {
              "version_major": 2,
              "version_minor": 0,
              "model_id": "c76acd00173047ef9efc00c21802a229"
            }
          },
          "metadata": {}
        },
        {
          "output_type": "stream",
          "name": "stdout",
          "text": [
            "Epoch: 0/200 | Generator Loss: 2.681763769594083 | Discriminator Loss: 0.3342563045113834\n"
          ]
        },
        {
          "output_type": "display_data",
          "data": {
            "text/plain": [
              "<Figure size 1500x500 with 10 Axes>"
            ],
            "image/png": "[encoded data removed]"
          },
          "metadata": {}
        },
        {
          "output_type": "stream",
          "name": "stdout",
          "text": [
            "Epoch: 40/200 | Generator Loss: 1.3795944551415027 | Discriminator Loss: 0.4961676597595215\n"
          ]
        },
        {
          "output_type": "display_data",
          "data": {
            "text/plain": [
              "<Figure size 1500x500 with 10 Axes>"
            ],
            "image/png": "[encoded data removed]"
          },
          "metadata": {}
        },
        {
          "output_type": "stream",
          "name": "stdout",
          "text": [
            "Epoch: 80/200 | Generator Loss: 1.1143068615307432 | Discriminator Loss: 0.5659812070540527\n"
          ]
        },
        {
          "output_type": "display_data",
          "data": {
            "text/plain": [
              "<Figure size 1500x500 with 10 Axes>"
            ],
            "image/png": "[encoded data removed]"
          },
          "metadata": {}
        },
        {
          "output_type": "stream",
          "name": "stdout",
          "text": [
            "Epoch: 120/200 | Generator Loss: 1.1039941920908785 | Discriminator Loss: 0.5679857910696123\n"
          ]
        },
        {
          "output_type": "display_data",
          "data": {
            "text/plain": [
              "<Figure size 1500x500 with 10 Axes>"
            ],
            "image/png": "[encoded data removed]"
          },
          "metadata": {}
        },
        {
          "output_type": "stream",
          "name": "stdout",
          "text": [
            "Epoch: 160/200 | Generator Loss: 1.1480180131855295 | Discriminator Loss: 0.5593320869052334\n"
          ]
        },
        {
          "output_type": "display_data",
          "data": {
            "text/plain": [
              "<Figure size 1500x500 with 10 Axes>"
            ],
            "image/png": "[encoded data removed]"
          },
          "metadata": {}
        }
      ]
    },
    {
      "cell_type": "markdown",
      "source": [
        "# Convolutional Generator"
      ],
      "metadata": {
        "id": "doT4_3LlgJu0"
      }
    },
    {
      "cell_type": "code",
      "source": [
        "class UpsampleBlock(nn.Module):\n",
        "    def __init__(self, in_channels, out_channels, interpolate=False):\n",
        "        super().__init__()\n",
        "        if interpolate:\n",
        "            self.upsample = nn.Sequential(\n",
        "                nn.Upsample(scale_factor=2),\n",
        "                nn.Conv2d(in_channels,\n",
        "                          out_channels,\n",
        "                          kernel_size=3,\n",
        "                          padding=\"same\")\n",
        "            )\n",
        "\n",
        "        else:\n",
        "            self.upsample = nn.ConvTranspose2d(in_channels,\n",
        "                                               out_channels,\n",
        "                                               kernel_size=3,\n",
        "                                               stride=2,\n",
        "                                               padding=1,\n",
        "                                               output_padding=1)\n",
        "\n",
        "\n",
        "    def forward(self, x):\n",
        "        return self.upsample(x)\n",
        "\n",
        "class ConvMNISTConditionalGenerator(nn.Module):\n",
        "    def __init__(self,\n",
        "                 in_channels=128,\n",
        "                 start_dim=7,\n",
        "                 latent_dimension=100,\n",
        "                 num_embeddings=10,\n",
        "                 embedding_dim=16,\n",
        "                 interpolate=False):\n",
        "\n",
        "        super().__init__()\n",
        "\n",
        "        self.start_dim = start_dim\n",
        "        self.in_channels = in_channels\n",
        "\n",
        "        self.embeddings = nn.Embedding(num_embeddings, embedding_dim)\n",
        "\n",
        "        self.lin2img = nn.Linear(latent_dimension+embedding_dim, in_channels * start_dim * start_dim)\n",
        "\n",
        "        self.generator = nn.Sequential(\n",
        "            UpsampleBlock(in_channels, 256),\n",
        "            nn.BatchNorm2d(256),\n",
        "            nn.ReLU(),\n",
        "            nn.Conv2d(256,128,kernel_size=3, padding=\"same\"),\n",
        "            nn.BatchNorm2d(128),\n",
        "            nn.ReLU(),\n",
        "            UpsampleBlock(128, 64),\n",
        "            nn.BatchNorm2d(64),\n",
        "            nn.ReLU(),\n",
        "            nn.Conv2d(64,1,kernel_size=3, padding=\"same\"),\n",
        "            nn.Tanh()\n",
        "        )\n",
        "\n",
        "    def forward(self, noise, labels):\n",
        "        batch_size = noise.shape[0]\n",
        "\n",
        "        # Get Digit Embeddings\n",
        "        embeddings = self.embeddings(labels)\n",
        "\n",
        "        # Concat Embeddings onto Noise\n",
        "        noise = torch.cat([noise, embeddings], dim=-1)\n",
        "\n",
        "        # Project Noise to Img Space\n",
        "        noise = self.lin2img(noise)\n",
        "\n",
        "        #Reshape Noise to Image Shape\n",
        "        noise = noise.reshape(batch_size, self.in_channels, self.start_dim, self.start_dim)\n",
        "\n",
        "        #Pass Noise+Embeddings into Generator\n",
        "        generated = self.generator(noise)\n",
        "\n",
        "        return generated.reshape(batch_size, 1, 28, 28)\n",
        "\n",
        "generator_learning_rate = 0.0001\n",
        "discriminator_learning_rate = 0.0001\n",
        "\n",
        "# Define Models\n",
        "generator = ConvMNISTConditionalGenerator(interpolate=False).to(device)\n",
        "discriminator = MNISTConditionalDiscriminator().to(device)\n",
        "\n",
        "# Define Optimizers\n",
        "gen_optimizer = optim.Adam(generator.parameters(), generator_learning_rate)\n",
        "disc_optimizer = optim.Adam(discriminator.parameters(), discriminator_learning_rate)\n",
        "\n",
        "\n",
        "generator, discriminator, gen_losses, disc_losses = train_conditional_gan(generator=generator,\n",
        "                                                                          discriminator=discriminator,\n",
        "                                                                          generator_optimizer=gen_optimizer,\n",
        "                                                                          discriminator_optimizer=disc_optimizer,\n",
        "                                                                          dataloader=trainloader,\n",
        "                                                                          epochs=200,\n",
        "                                                                          device=\"cuda\",\n",
        "                                                                          plot_generation_freq=20,\n",
        "                                                                          plot_loss_freq=20)"
      ],
      "metadata": {
        "colab": {
          "base_uri": "https://localhost:8080/",
          "height": 211
        },
        "id": "vZcMOYzhiIPd",
        "outputId": "2e35c744-1af6-4454-9b97-190094f45fa3"
      },
      "execution_count": null,
      "outputs": [
        {
          "output_type": "error",
          "ename": "NameError",
          "evalue": "name 'nn' is not defined",
          "traceback": [
            "\u001b[0;31m---------------------------------------------------------------------------\u001b[0m",
            "\u001b[0;31mNameError\u001b[0m                                 Traceback (most recent call last)",
            "\u001b[0;32m<ipython-input-1-2790540739>\u001b[0m in \u001b[0;36m<cell line: 0>\u001b[0;34m()\u001b[0m\n\u001b[0;32m----> 1\u001b[0;31m \u001b[0;32mclass\u001b[0m \u001b[0mUpsampleBlock\u001b[0m\u001b[0;34m(\u001b[0m\u001b[0mnn\u001b[0m\u001b[0;34m.\u001b[0m\u001b[0mModule\u001b[0m\u001b[0;34m)\u001b[0m\u001b[0;34m:\u001b[0m\u001b[0;34m\u001b[0m\u001b[0;34m\u001b[0m\u001b[0m\n\u001b[0m\u001b[1;32m      2\u001b[0m     \u001b[0;32mdef\u001b[0m \u001b[0m__init__\u001b[0m\u001b[0;34m(\u001b[0m\u001b[0mself\u001b[0m\u001b[0;34m,\u001b[0m \u001b[0min_channels\u001b[0m\u001b[0;34m,\u001b[0m \u001b[0mout_channels\u001b[0m\u001b[0;34m,\u001b[0m \u001b[0minterpolate\u001b[0m\u001b[0;34m=\u001b[0m\u001b[0;32mFalse\u001b[0m\u001b[0;34m)\u001b[0m\u001b[0;34m:\u001b[0m\u001b[0;34m\u001b[0m\u001b[0;34m\u001b[0m\u001b[0m\n\u001b[1;32m      3\u001b[0m         \u001b[0msuper\u001b[0m\u001b[0;34m(\u001b[0m\u001b[0;34m)\u001b[0m\u001b[0;34m.\u001b[0m\u001b[0m__init__\u001b[0m\u001b[0;34m(\u001b[0m\u001b[0;34m)\u001b[0m\u001b[0;34m\u001b[0m\u001b[0;34m\u001b[0m\u001b[0m\n\u001b[1;32m      4\u001b[0m         \u001b[0;32mif\u001b[0m \u001b[0minterpolate\u001b[0m\u001b[0;34m:\u001b[0m\u001b[0;34m\u001b[0m\u001b[0;34m\u001b[0m\u001b[0m\n\u001b[1;32m      5\u001b[0m             self.upsample = nn.Sequential(\n",
            "\u001b[0;31mNameError\u001b[0m: name 'nn' is not defined"
          ]
        }
      ]
    },
    {
      "cell_type": "code",
      "source": [],
      "metadata": {
        "id": "jmyM4IGA12XT"
      },
      "execution_count": null,
      "outputs": []
    }
  ],
  "metadata": {
    "colab": {
      "provenance": [],
      "gpuType": "T4"
    },
    "kernelspec": {
      "display_name": "Python 3",
      "name": "python3"
    },
    "language_info": {
      "name": "python"
    },
    "accelerator": "GPU",
    "widgets": {
      "application/vnd.jupyter.widget-state+json": {
        "9ae4533ddf91409891610017c72672d4": {
          "model_module": "@jupyter-widgets/controls",
          "model_name": "HBoxModel",
          "model_module_version": "1.5.0",
          "state": {
            "_dom_classes": [],
            "_model_module": "@jupyter-widgets/controls",
            "_model_module_version": "1.5.0",
            "_model_name": "HBoxModel",
            "_view_count": null,
            "_view_module": "@jupyter-widgets/controls",
            "_view_module_version": "1.5.0",
            "_view_name": "HBoxView",
            "box_style": "",
            "children": [
              "IPY_MODEL_b44d616902b74eeeb3b2f8136186adc4",
              "IPY_MODEL_36fda8a857994594b470725c254529f0",
              "IPY_MODEL_e153fdfa1c2f419ebdef5943bd36dcc9"
            ],
            "layout": "IPY_MODEL_8870bec52317470884a8e14b7a12a245"
          }
        },
        "b44d616902b74eeeb3b2f8136186adc4": {
          "model_module": "@jupyter-widgets/controls",
          "model_name": "HTMLModel",
          "model_module_version": "1.5.0",
          "state": {
            "_dom_classes": [],
            "_model_module": "@jupyter-widgets/controls",
            "_model_module_version": "1.5.0",
            "_model_name": "HTMLModel",
            "_view_count": null,
            "_view_module": "@jupyter-widgets/controls",
            "_view_module_version": "1.5.0",
            "_view_name": "HTMLView",
            "description": "",
            "description_tooltip": null,
            "layout": "IPY_MODEL_3610eee4bafe480e962991364b3d0273",
            "placeholder": "​",
            "style": "IPY_MODEL_38c88daa360f4d0fb717714acbac49c1",
            "value": "100%"
          }
        },
        "36fda8a857994594b470725c254529f0": {
          "model_module": "@jupyter-widgets/controls",
          "model_name": "FloatProgressModel",
          "model_module_version": "1.5.0",
          "state": {
            "_dom_classes": [],
            "_model_module": "@jupyter-widgets/controls",
            "_model_module_version": "1.5.0",
            "_model_name": "FloatProgressModel",
            "_view_count": null,
            "_view_module": "@jupyter-widgets/controls",
            "_view_module_version": "1.5.0",
            "_view_name": "ProgressView",
            "bar_style": "success",
            "description": "",
            "description_tooltip": null,
            "layout": "IPY_MODEL_1a0a946ef52b40c88526669192970b13",
            "max": 200,
            "min": 0,
            "orientation": "horizontal",
            "style": "IPY_MODEL_2ac729aa2ed94934a4eae5dad3878839",
            "value": 200
          }
        },
        "e153fdfa1c2f419ebdef5943bd36dcc9": {
          "model_module": "@jupyter-widgets/controls",
          "model_name": "HTMLModel",
          "model_module_version": "1.5.0",
          "state": {
            "_dom_classes": [],
            "_model_module": "@jupyter-widgets/controls",
            "_model_module_version": "1.5.0",
            "_model_name": "HTMLModel",
            "_view_count": null,
            "_view_module": "@jupyter-widgets/controls",
            "_view_module_version": "1.5.0",
            "_view_name": "HTMLView",
            "description": "",
            "description_tooltip": null,
            "layout": "IPY_MODEL_c4f3e36a9b514ed9bbec95cb6714065c",
            "placeholder": "​",
            "style": "IPY_MODEL_0b9ffe3c215c439abb4e2255a8240038",
            "value": " 200/200 [53:30&lt;00:00, 15.99s/it]"
          }
        },
        "8870bec52317470884a8e14b7a12a245": {
          "model_module": "@jupyter-widgets/base",
          "model_name": "LayoutModel",
          "model_module_version": "1.2.0",
          "state": {
            "_model_module": "@jupyter-widgets/base",
            "_model_module_version": "1.2.0",
            "_model_name": "LayoutModel",
            "_view_count": null,
            "_view_module": "@jupyter-widgets/base",
            "_view_module_version": "1.2.0",
            "_view_name": "LayoutView",
            "align_content": null,
            "align_items": null,
            "align_self": null,
            "border": null,
            "bottom": null,
            "display": null,
            "flex": null,
            "flex_flow": null,
            "grid_area": null,
            "grid_auto_columns": null,
            "grid_auto_flow": null,
            "grid_auto_rows": null,
            "grid_column": null,
            "grid_gap": null,
            "grid_row": null,
            "grid_template_areas": null,
            "grid_template_columns": null,
            "grid_template_rows": null,
            "height": null,
            "justify_content": null,
            "justify_items": null,
            "left": null,
            "margin": null,
            "max_height": null,
            "max_width": null,
            "min_height": null,
            "min_width": null,
            "object_fit": null,
            "object_position": null,
            "order": null,
            "overflow": null,
            "overflow_x": null,
            "overflow_y": null,
            "padding": null,
            "right": null,
            "top": null,
            "visibility": null,
            "width": null
          }
        },
        "3610eee4bafe480e962991364b3d0273": {
          "model_module": "@jupyter-widgets/base",
          "model_name": "LayoutModel",
          "model_module_version": "1.2.0",
          "state": {
            "_model_module": "@jupyter-widgets/base",
            "_model_module_version": "1.2.0",
            "_model_name": "LayoutModel",
            "_view_count": null,
            "_view_module": "@jupyter-widgets/base",
            "_view_module_version": "1.2.0",
            "_view_name": "LayoutView",
            "align_content": null,
            "align_items": null,
            "align_self": null,
            "border": null,
            "bottom": null,
            "display": null,
            "flex": null,
            "flex_flow": null,
            "grid_area": null,
            "grid_auto_columns": null,
            "grid_auto_flow": null,
            "grid_auto_rows": null,
            "grid_column": null,
            "grid_gap": null,
            "grid_row": null,
            "grid_template_areas": null,
            "grid_template_columns": null,
            "grid_template_rows": null,
            "height": null,
            "justify_content": null,
            "justify_items": null,
            "left": null,
            "margin": null,
            "max_height": null,
            "max_width": null,
            "min_height": null,
            "min_width": null,
            "object_fit": null,
            "object_position": null,
            "order": null,
            "overflow": null,
            "overflow_x": null,
            "overflow_y": null,
            "padding": null,
            "right": null,
            "top": null,
            "visibility": null,
            "width": null
          }
        },
        "38c88daa360f4d0fb717714acbac49c1": {
          "model_module": "@jupyter-widgets/controls",
          "model_name": "DescriptionStyleModel",
          "model_module_version": "1.5.0",
          "state": {
            "_model_module": "@jupyter-widgets/controls",
            "_model_module_version": "1.5.0",
            "_model_name": "DescriptionStyleModel",
            "_view_count": null,
            "_view_module": "@jupyter-widgets/base",
            "_view_module_version": "1.2.0",
            "_view_name": "StyleView",
            "description_width": ""
          }
        },
        "1a0a946ef52b40c88526669192970b13": {
          "model_module": "@jupyter-widgets/base",
          "model_name": "LayoutModel",
          "model_module_version": "1.2.0",
          "state": {
            "_model_module": "@jupyter-widgets/base",
            "_model_module_version": "1.2.0",
            "_model_name": "LayoutModel",
            "_view_count": null,
            "_view_module": "@jupyter-widgets/base",
            "_view_module_version": "1.2.0",
            "_view_name": "LayoutView",
            "align_content": null,
            "align_items": null,
            "align_self": null,
            "border": null,
            "bottom": null,
            "display": null,
            "flex": null,
            "flex_flow": null,
            "grid_area": null,
            "grid_auto_columns": null,
            "grid_auto_flow": null,
            "grid_auto_rows": null,
            "grid_column": null,
            "grid_gap": null,
            "grid_row": null,
            "grid_template_areas": null,
            "grid_template_columns": null,
            "grid_template_rows": null,
            "height": null,
            "justify_content": null,
            "justify_items": null,
            "left": null,
            "margin": null,
            "max_height": null,
            "max_width": null,
            "min_height": null,
            "min_width": null,
            "object_fit": null,
            "object_position": null,
            "order": null,
            "overflow": null,
            "overflow_x": null,
            "overflow_y": null,
            "padding": null,
            "right": null,
            "top": null,
            "visibility": null,
            "width": null
          }
        },
        "2ac729aa2ed94934a4eae5dad3878839": {
          "model_module": "@jupyter-widgets/controls",
          "model_name": "ProgressStyleModel",
          "model_module_version": "1.5.0",
          "state": {
            "_model_module": "@jupyter-widgets/controls",
            "_model_module_version": "1.5.0",
            "_model_name": "ProgressStyleModel",
            "_view_count": null,
            "_view_module": "@jupyter-widgets/base",
            "_view_module_version": "1.2.0",
            "_view_name": "StyleView",
            "bar_color": null,
            "description_width": ""
          }
        },
        "c4f3e36a9b514ed9bbec95cb6714065c": {
          "model_module": "@jupyter-widgets/base",
          "model_name": "LayoutModel",
          "model_module_version": "1.2.0",
          "state": {
            "_model_module": "@jupyter-widgets/base",
            "_model_module_version": "1.2.0",
            "_model_name": "LayoutModel",
            "_view_count": null,
            "_view_module": "@jupyter-widgets/base",
            "_view_module_version": "1.2.0",
            "_view_name": "LayoutView",
            "align_content": null,
            "align_items": null,
            "align_self": null,
            "border": null,
            "bottom": null,
            "display": null,
            "flex": null,
            "flex_flow": null,
            "grid_area": null,
            "grid_auto_columns": null,
            "grid_auto_flow": null,
            "grid_auto_rows": null,
            "grid_column": null,
            "grid_gap": null,
            "grid_row": null,
            "grid_template_areas": null,
            "grid_template_columns": null,
            "grid_template_rows": null,
            "height": null,
            "justify_content": null,
            "justify_items": null,
            "left": null,
            "margin": null,
            "max_height": null,
            "max_width": null,
            "min_height": null,
            "min_width": null,
            "object_fit": null,
            "object_position": null,
            "order": null,
            "overflow": null,
            "overflow_x": null,
            "overflow_y": null,
            "padding": null,
            "right": null,
            "top": null,
            "visibility": null,
            "width": null
          }
        },
        "0b9ffe3c215c439abb4e2255a8240038": {
          "model_module": "@jupyter-widgets/controls",
          "model_name": "DescriptionStyleModel",
          "model_module_version": "1.5.0",
          "state": {
            "_model_module": "@jupyter-widgets/controls",
            "_model_module_version": "1.5.0",
            "_model_name": "DescriptionStyleModel",
            "_view_count": null,
            "_view_module": "@jupyter-widgets/base",
            "_view_module_version": "1.2.0",
            "_view_name": "StyleView",
            "description_width": ""
          }
        },
        "c76acd00173047ef9efc00c21802a229": {
          "model_module": "@jupyter-widgets/controls",
          "model_name": "HBoxModel",
          "model_module_version": "1.5.0",
          "state": {
            "_dom_classes": [],
            "_model_module": "@jupyter-widgets/controls",
            "_model_module_version": "1.5.0",
            "_model_name": "HBoxModel",
            "_view_count": null,
            "_view_module": "@jupyter-widgets/controls",
            "_view_module_version": "1.5.0",
            "_view_name": "HBoxView",
            "box_style": "",
            "children": [
              "IPY_MODEL_9770c0e894ed49a7aa92f699f3677d53",
              "IPY_MODEL_6bf957caa5ab4f97bb7846f5d245dada",
              "IPY_MODEL_c5c75bf9ad7c468ca5ed816976846989"
            ],
            "layout": "IPY_MODEL_9fbe1cd7faa94881aaa966233e23303c"
          }
        },
        "9770c0e894ed49a7aa92f699f3677d53": {
          "model_module": "@jupyter-widgets/controls",
          "model_name": "HTMLModel",
          "model_module_version": "1.5.0",
          "state": {
            "_dom_classes": [],
            "_model_module": "@jupyter-widgets/controls",
            "_model_module_version": "1.5.0",
            "_model_name": "HTMLModel",
            "_view_count": null,
            "_view_module": "@jupyter-widgets/controls",
            "_view_module_version": "1.5.0",
            "_view_name": "HTMLView",
            "description": "",
            "description_tooltip": null,
            "layout": "IPY_MODEL_5c5c4eac65b94e9cbb05f6f85340e984",
            "placeholder": "​",
            "style": "IPY_MODEL_a4283a1a13ad4e8ea0399f522902b59c",
            "value": "100%"
          }
        },
        "6bf957caa5ab4f97bb7846f5d245dada": {
          "model_module": "@jupyter-widgets/controls",
          "model_name": "FloatProgressModel",
          "model_module_version": "1.5.0",
          "state": {
            "_dom_classes": [],
            "_model_module": "@jupyter-widgets/controls",
            "_model_module_version": "1.5.0",
            "_model_name": "FloatProgressModel",
            "_view_count": null,
            "_view_module": "@jupyter-widgets/controls",
            "_view_module_version": "1.5.0",
            "_view_name": "ProgressView",
            "bar_style": "success",
            "description": "",
            "description_tooltip": null,
            "layout": "IPY_MODEL_d3510471f93840118a21849a974e992a",
            "max": 200,
            "min": 0,
            "orientation": "horizontal",
            "style": "IPY_MODEL_e2a6b346e1b24ad3b4f982861c9ef19f",
            "value": 200
          }
        },
        "c5c75bf9ad7c468ca5ed816976846989": {
          "model_module": "@jupyter-widgets/controls",
          "model_name": "HTMLModel",
          "model_module_version": "1.5.0",
          "state": {
            "_dom_classes": [],
            "_model_module": "@jupyter-widgets/controls",
            "_model_module_version": "1.5.0",
            "_model_name": "HTMLModel",
            "_view_count": null,
            "_view_module": "@jupyter-widgets/controls",
            "_view_module_version": "1.5.0",
            "_view_name": "HTMLView",
            "description": "",
            "description_tooltip": null,
            "layout": "IPY_MODEL_58e378bfdee246fca6eae8eeb725dc10",
            "placeholder": "​",
            "style": "IPY_MODEL_89514442a62b4b1bb56510f469e1a70b",
            "value": " 200/200 [54:01&lt;00:00, 16.33s/it]"
          }
        },
        "9fbe1cd7faa94881aaa966233e23303c": {
          "model_module": "@jupyter-widgets/base",
          "model_name": "LayoutModel",
          "model_module_version": "1.2.0",
          "state": {
            "_model_module": "@jupyter-widgets/base",
            "_model_module_version": "1.2.0",
            "_model_name": "LayoutModel",
            "_view_count": null,
            "_view_module": "@jupyter-widgets/base",
            "_view_module_version": "1.2.0",
            "_view_name": "LayoutView",
            "align_content": null,
            "align_items": null,
            "align_self": null,
            "border": null,
            "bottom": null,
            "display": null,
            "flex": null,
            "flex_flow": null,
            "grid_area": null,
            "grid_auto_columns": null,
            "grid_auto_flow": null,
            "grid_auto_rows": null,
            "grid_column": null,
            "grid_gap": null,
            "grid_row": null,
            "grid_template_areas": null,
            "grid_template_columns": null,
            "grid_template_rows": null,
            "height": null,
            "justify_content": null,
            "justify_items": null,
            "left": null,
            "margin": null,
            "max_height": null,
            "max_width": null,
            "min_height": null,
            "min_width": null,
            "object_fit": null,
            "object_position": null,
            "order": null,
            "overflow": null,
            "overflow_x": null,
            "overflow_y": null,
            "padding": null,
            "right": null,
            "top": null,
            "visibility": null,
            "width": null
          }
        },
        "5c5c4eac65b94e9cbb05f6f85340e984": {
          "model_module": "@jupyter-widgets/base",
          "model_name": "LayoutModel",
          "model_module_version": "1.2.0",
          "state": {
            "_model_module": "@jupyter-widgets/base",
            "_model_module_version": "1.2.0",
            "_model_name": "LayoutModel",
            "_view_count": null,
            "_view_module": "@jupyter-widgets/base",
            "_view_module_version": "1.2.0",
            "_view_name": "LayoutView",
            "align_content": null,
            "align_items": null,
            "align_self": null,
            "border": null,
            "bottom": null,
            "display": null,
            "flex": null,
            "flex_flow": null,
            "grid_area": null,
            "grid_auto_columns": null,
            "grid_auto_flow": null,
            "grid_auto_rows": null,
            "grid_column": null,
            "grid_gap": null,
            "grid_row": null,
            "grid_template_areas": null,
            "grid_template_columns": null,
            "grid_template_rows": null,
            "height": null,
            "justify_content": null,
            "justify_items": null,
            "left": null,
            "margin": null,
            "max_height": null,
            "max_width": null,
            "min_height": null,
            "min_width": null,
            "object_fit": null,
            "object_position": null,
            "order": null,
            "overflow": null,
            "overflow_x": null,
            "overflow_y": null,
            "padding": null,
            "right": null,
            "top": null,
            "visibility": null,
            "width": null
          }
        },
        "a4283a1a13ad4e8ea0399f522902b59c": {
          "model_module": "@jupyter-widgets/controls",
          "model_name": "DescriptionStyleModel",
          "model_module_version": "1.5.0",
          "state": {
            "_model_module": "@jupyter-widgets/controls",
            "_model_module_version": "1.5.0",
            "_model_name": "DescriptionStyleModel",
            "_view_count": null,
            "_view_module": "@jupyter-widgets/base",
            "_view_module_version": "1.2.0",
            "_view_name": "StyleView",
            "description_width": ""
          }
        },
        "d3510471f93840118a21849a974e992a": {
          "model_module": "@jupyter-widgets/base",
          "model_name": "LayoutModel",
          "model_module_version": "1.2.0",
          "state": {
            "_model_module": "@jupyter-widgets/base",
            "_model_module_version": "1.2.0",
            "_model_name": "LayoutModel",
            "_view_count": null,
            "_view_module": "@jupyter-widgets/base",
            "_view_module_version": "1.2.0",
            "_view_name": "LayoutView",
            "align_content": null,
            "align_items": null,
            "align_self": null,
            "border": null,
            "bottom": null,
            "display": null,
            "flex": null,
            "flex_flow": null,
            "grid_area": null,
            "grid_auto_columns": null,
            "grid_auto_flow": null,
            "grid_auto_rows": null,
            "grid_column": null,
            "grid_gap": null,
            "grid_row": null,
            "grid_template_areas": null,
            "grid_template_columns": null,
            "grid_template_rows": null,
            "height": null,
            "justify_content": null,
            "justify_items": null,
            "left": null,
            "margin": null,
            "max_height": null,
            "max_width": null,
            "min_height": null,
            "min_width": null,
            "object_fit": null,
            "object_position": null,
            "order": null,
            "overflow": null,
            "overflow_x": null,
            "overflow_y": null,
            "padding": null,
            "right": null,
            "top": null,
            "visibility": null,
            "width": null
          }
        },
        "e2a6b346e1b24ad3b4f982861c9ef19f": {
          "model_module": "@jupyter-widgets/controls",
          "model_name": "ProgressStyleModel",
          "model_module_version": "1.5.0",
          "state": {
            "_model_module": "@jupyter-widgets/controls",
            "_model_module_version": "1.5.0",
            "_model_name": "ProgressStyleModel",
            "_view_count": null,
            "_view_module": "@jupyter-widgets/base",
            "_view_module_version": "1.2.0",
            "_view_name": "StyleView",
            "bar_color": null,
            "description_width": ""
          }
        },
        "58e378bfdee246fca6eae8eeb725dc10": {
          "model_module": "@jupyter-widgets/base",
          "model_name": "LayoutModel",
          "model_module_version": "1.2.0",
          "state": {
            "_model_module": "@jupyter-widgets/base",
            "_model_module_version": "1.2.0",
            "_model_name": "LayoutModel",
            "_view_count": null,
            "_view_module": "@jupyter-widgets/base",
            "_view_module_version": "1.2.0",
            "_view_name": "LayoutView",
            "align_content": null,
            "align_items": null,
            "align_self": null,
            "border": null,
            "bottom": null,
            "display": null,
            "flex": null,
            "flex_flow": null,
            "grid_area": null,
            "grid_auto_columns": null,
            "grid_auto_flow": null,
            "grid_auto_rows": null,
            "grid_column": null,
            "grid_gap": null,
            "grid_row": null,
            "grid_template_areas": null,
            "grid_template_columns": null,
            "grid_template_rows": null,
            "height": null,
            "justify_content": null,
            "justify_items": null,
            "left": null,
            "margin": null,
            "max_height": null,
            "max_width": null,
            "min_height": null,
            "min_width": null,
            "object_fit": null,
            "object_position": null,
            "order": null,
            "overflow": null,
            "overflow_x": null,
            "overflow_y": null,
            "padding": null,
            "right": null,
            "top": null,
            "visibility": null,
            "width": null
          }
        },
        "89514442a62b4b1bb56510f469e1a70b": {
          "model_module": "@jupyter-widgets/controls",
          "model_name": "DescriptionStyleModel",
          "model_module_version": "1.5.0",
          "state": {
            "_model_module": "@jupyter-widgets/controls",
            "_model_module_version": "1.5.0",
            "_model_name": "DescriptionStyleModel",
            "_view_count": null,
            "_view_module": "@jupyter-widgets/base",
            "_view_module_version": "1.2.0",
            "_view_name": "StyleView",
            "description_width": ""
          }
        }
      }
    }
  },
  "nbformat": 4,
  "nbformat_minor": 0
}